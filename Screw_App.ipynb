{
  "nbformat": 4,
  "nbformat_minor": 0,
  "metadata": {
    "colab": {
      "name": "Screw_App.ipynb",
      "provenance": [],
      "collapsed_sections": [],
      "authorship_tag": "ABX9TyMQx6RRaRerl2JNmcDY8iRC",
      "include_colab_link": true
    },
    "kernelspec": {
      "name": "python3",
      "display_name": "Python 3"
    }
  },
  "cells": [
    {
      "cell_type": "markdown",
      "metadata": {
        "id": "view-in-github",
        "colab_type": "text"
      },
      "source": [
        "<a href=\"https://colab.research.google.com/github/pds2021/a5-franzislytics/blob/assignment_5/Screw_App.ipynb\" target=\"_parent\"><img src=\"https://colab.research.google.com/assets/colab-badge.svg\" alt=\"Open In Colab\"/></a>"
      ]
    },
    {
      "cell_type": "code",
      "metadata": {
        "id": "_V9yLq-jdaSv"
      },
      "source": [
        "from fastai.vision.all import *\r\n",
        "from fastai.vision.widgets import *"
      ],
      "execution_count": null,
      "outputs": []
    },
    {
      "cell_type": "code",
      "metadata": {
        "id": "aPC71JdQifN3"
      },
      "source": [
        "download_url('https://github.com/pds2021/a5-franzislytics/releases/download/models/export.pkl', 'export.pkl')\r\n",
        "learn_inf = load_learner('export.pkl', cpu=True)\r\n",
        "btn_upload = widgets.FileUpload()\r\n",
        "btn_run = widgets.Button(description='Classify')\r\n",
        "out_pl = widgets.Output()\r\n",
        "lbl_pred = widgets.Label()\r\n",
        "\r\n",
        "def on_click_classify(change):\r\n",
        "    img = PILImage.create(btn_upload.data[-1])\r\n",
        "    out_pl.clear_output()\r\n",
        "    with out_pl: display(img.to_thumb(512,512))\r\n",
        "    pred,pred_idx,probs = learn_inf.predict(img)\r\n",
        "    lbl_pred.value = f'Prediction: {pred}; Probability: {probs[pred_idx]:.04f}'\r\n",
        "\r\n",
        "btn_run.on_click(on_click_classify)\r\n",
        "VBox([widgets.Label('Select your screw!'), \r\n",
        "      btn_upload, btn_run, out_pl, lbl_pred])"
      ],
      "execution_count": null,
      "outputs": []
    }
  ]
}